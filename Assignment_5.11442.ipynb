{
 "cells": [
  {
   "cell_type": "markdown",
   "metadata": {},
   "source": [
    "# 1) How-to-count-distance-to-the-previous-zero\n",
    "### For each value, count the difference of the distance from the previous zero (or the start\n",
    "### of the Series, whichever is closer) and if there are no previous zeros,print the position\n",
    "### Consider a DataFrame df where there is an integer column {'X':[7, 2, 0, 3, 4, 2, 5, 0, 3, 4]}\n",
    "### The values should therefore be [1, 2, 0, 1, 2, 3, 4, 0, 1, 2]. Make this a new column 'Y'.\n",
    "### import pandas as pd\n",
    "### df = pd.DataFrame({'X': [7, 2, 0, 3, 4, 2, 5, 0, 3, 4]})"
   ]
  },
  {
   "cell_type": "code",
   "execution_count": 1,
   "metadata": {},
   "outputs": [],
   "source": [
    "import pandas as pd"
   ]
  },
  {
   "cell_type": "markdown",
   "metadata": {},
   "source": [
    "##### Solution1"
   ]
  },
  {
   "cell_type": "code",
   "execution_count": 2,
   "metadata": {},
   "outputs": [],
   "source": [
    "def ind(s):\n",
    "    j = 1\n",
    "    list1 = []\n",
    "    for i in range(len(s)):\n",
    "        if s[i]:\n",
    "            list1.append(j)\n",
    "            j += 1\n",
    "        else:\n",
    "            list1.append(0)\n",
    "            j = 1\n",
    "    return pd.Series(list1)"
   ]
  },
  {
   "cell_type": "markdown",
   "metadata": {},
   "source": [
    "##### Solution2"
   ]
  },
  {
   "cell_type": "code",
   "execution_count": 3,
   "metadata": {},
   "outputs": [],
   "source": [
    "def ind1(s):\n",
    "    return s.groupby((s != s.shift()).cumsum()).cumsum()"
   ]
  },
  {
   "cell_type": "code",
   "execution_count": 4,
   "metadata": {},
   "outputs": [
    {
     "data": {
      "text/html": [
       "<div>\n",
       "<style scoped>\n",
       "    .dataframe tbody tr th:only-of-type {\n",
       "        vertical-align: middle;\n",
       "    }\n",
       "\n",
       "    .dataframe tbody tr th {\n",
       "        vertical-align: top;\n",
       "    }\n",
       "\n",
       "    .dataframe thead th {\n",
       "        text-align: right;\n",
       "    }\n",
       "</style>\n",
       "<table border=\"1\" class=\"dataframe\">\n",
       "  <thead>\n",
       "    <tr style=\"text-align: right;\">\n",
       "      <th></th>\n",
       "      <th>X</th>\n",
       "      <th>dist_0</th>\n",
       "      <th>dist_1</th>\n",
       "    </tr>\n",
       "  </thead>\n",
       "  <tbody>\n",
       "    <tr>\n",
       "      <th>0</th>\n",
       "      <td>7</td>\n",
       "      <td>1</td>\n",
       "      <td>1.0</td>\n",
       "    </tr>\n",
       "    <tr>\n",
       "      <th>1</th>\n",
       "      <td>2</td>\n",
       "      <td>2</td>\n",
       "      <td>2.0</td>\n",
       "    </tr>\n",
       "    <tr>\n",
       "      <th>2</th>\n",
       "      <td>0</td>\n",
       "      <td>0</td>\n",
       "      <td>0.0</td>\n",
       "    </tr>\n",
       "    <tr>\n",
       "      <th>3</th>\n",
       "      <td>3</td>\n",
       "      <td>1</td>\n",
       "      <td>1.0</td>\n",
       "    </tr>\n",
       "    <tr>\n",
       "      <th>4</th>\n",
       "      <td>4</td>\n",
       "      <td>2</td>\n",
       "      <td>2.0</td>\n",
       "    </tr>\n",
       "    <tr>\n",
       "      <th>5</th>\n",
       "      <td>2</td>\n",
       "      <td>3</td>\n",
       "      <td>3.0</td>\n",
       "    </tr>\n",
       "    <tr>\n",
       "      <th>6</th>\n",
       "      <td>5</td>\n",
       "      <td>4</td>\n",
       "      <td>4.0</td>\n",
       "    </tr>\n",
       "    <tr>\n",
       "      <th>7</th>\n",
       "      <td>0</td>\n",
       "      <td>0</td>\n",
       "      <td>0.0</td>\n",
       "    </tr>\n",
       "    <tr>\n",
       "      <th>8</th>\n",
       "      <td>3</td>\n",
       "      <td>1</td>\n",
       "      <td>1.0</td>\n",
       "    </tr>\n",
       "    <tr>\n",
       "      <th>9</th>\n",
       "      <td>4</td>\n",
       "      <td>2</td>\n",
       "      <td>2.0</td>\n",
       "    </tr>\n",
       "  </tbody>\n",
       "</table>\n",
       "</div>"
      ],
      "text/plain": [
       "   X  dist_0  dist_1\n",
       "0  7       1     1.0\n",
       "1  2       2     2.0\n",
       "2  0       0     0.0\n",
       "3  3       1     1.0\n",
       "4  4       2     2.0\n",
       "5  2       3     3.0\n",
       "6  5       4     4.0\n",
       "7  0       0     0.0\n",
       "8  3       1     1.0\n",
       "9  4       2     2.0"
      ]
     },
     "execution_count": 4,
     "metadata": {},
     "output_type": "execute_result"
    }
   ],
   "source": [
    "d={'X':[7, 2, 0, 3, 4, 2, 5, 0, 3, 4]}\n",
    "df = pd.DataFrame(data = d)\n",
    "df\n",
    "\n",
    "s = df['X'] > 0\n",
    "df['dist_0'] = ind(s)\n",
    "df['dist_1'] = ind1(s) # output of second solution\n",
    "df"
   ]
  },
  {
   "cell_type": "markdown",
   "metadata": {},
   "source": [
    "# 2) Create a DatetimeIndex that contains each business day of 2015 and use it to index a Series of random numbers"
   ]
  },
  {
   "cell_type": "code",
   "execution_count": 5,
   "metadata": {},
   "outputs": [
    {
     "data": {
      "text/plain": [
       "2015-01-01    0.652772\n",
       "2015-01-02   -2.302544\n",
       "2015-01-05    0.438016\n",
       "2015-01-06    0.110500\n",
       "2015-01-07   -1.201975\n",
       "2015-01-08    0.901341\n",
       "2015-01-09    0.925774\n",
       "2015-01-12    0.638993\n",
       "2015-01-13    0.237902\n",
       "2015-01-14   -0.960598\n",
       "2015-01-15    0.079418\n",
       "2015-01-16    1.386340\n",
       "2015-01-19    0.096511\n",
       "2015-01-20    0.881615\n",
       "2015-01-21   -0.658103\n",
       "2015-01-22    0.498487\n",
       "2015-01-23    2.321460\n",
       "2015-01-26   -0.478478\n",
       "2015-01-27   -0.171829\n",
       "2015-01-28   -0.256081\n",
       "2015-01-29   -1.260215\n",
       "2015-01-30    1.029091\n",
       "2015-02-02    1.088407\n",
       "2015-02-03   -0.335885\n",
       "2015-02-04   -1.387001\n",
       "2015-02-05    1.119298\n",
       "2015-02-06   -0.395622\n",
       "2015-02-09    0.261353\n",
       "2015-02-10   -0.167361\n",
       "2015-02-11   -1.269239\n",
       "                ...   \n",
       "2015-11-20    0.414535\n",
       "2015-11-23   -0.305144\n",
       "2015-11-24   -1.123849\n",
       "2015-11-25   -0.958211\n",
       "2015-11-26   -1.131331\n",
       "2015-11-27    0.954952\n",
       "2015-11-30   -0.522452\n",
       "2015-12-01   -2.339074\n",
       "2015-12-02   -0.030641\n",
       "2015-12-03    0.062120\n",
       "2015-12-04   -0.168488\n",
       "2015-12-07    0.756059\n",
       "2015-12-08    2.439436\n",
       "2015-12-09   -0.020493\n",
       "2015-12-10   -0.849967\n",
       "2015-12-11    0.119876\n",
       "2015-12-14   -0.253194\n",
       "2015-12-15   -0.406824\n",
       "2015-12-16   -1.377719\n",
       "2015-12-17   -0.644254\n",
       "2015-12-18   -0.076326\n",
       "2015-12-21    0.461396\n",
       "2015-12-22   -0.674744\n",
       "2015-12-23   -1.709498\n",
       "2015-12-24    0.719362\n",
       "2015-12-25   -0.837160\n",
       "2015-12-28   -0.614743\n",
       "2015-12-29   -0.377087\n",
       "2015-12-30    1.191814\n",
       "2015-12-31    2.096335\n",
       "Freq: B, Length: 261, dtype: float64"
      ]
     },
     "execution_count": 5,
     "metadata": {},
     "output_type": "execute_result"
    }
   ],
   "source": [
    "import pandas as pd\n",
    "import numpy as np\n",
    "\n",
    "ind = pd.bdate_range('2015-01-01', '2015-12-31')\n",
    "rand_num = np.random.randn(len(ind))\n",
    "\n",
    "s = pd.Series(data=rand_num, index=ind)\n",
    "\n",
    "s"
   ]
  },
  {
   "cell_type": "markdown",
   "metadata": {},
   "source": [
    "# 3) Find the sum of the values in s for every Wednesday"
   ]
  },
  {
   "cell_type": "code",
   "execution_count": 6,
   "metadata": {},
   "outputs": [
    {
     "data": {
      "text/plain": [
       "-18.700350992442573"
      ]
     },
     "execution_count": 6,
     "metadata": {},
     "output_type": "execute_result"
    }
   ],
   "source": [
    "sum1 = sum(s[s.index.dayofweek == 2])\n",
    "sum1"
   ]
  },
  {
   "cell_type": "markdown",
   "metadata": {},
   "source": [
    "# 4) Average For each calendar month"
   ]
  },
  {
   "cell_type": "code",
   "execution_count": 12,
   "metadata": {},
   "outputs": [
    {
     "data": {
      "text/plain": [
       "1     0.132200\n",
       "2     0.090752\n",
       "3    -0.261733\n",
       "4     0.037770\n",
       "5    -0.372750\n",
       "6    -0.196973\n",
       "7    -0.269211\n",
       "8     0.079993\n",
       "9    -0.104323\n",
       "10   -0.148832\n",
       "11    0.250250\n",
       "12   -0.110166\n",
       "dtype: float64"
      ]
     },
     "execution_count": 12,
     "metadata": {},
     "output_type": "execute_result"
    }
   ],
   "source": [
    "s.groupby(s.index.month).mean()"
   ]
  },
  {
   "cell_type": "markdown",
   "metadata": {},
   "source": [
    "# 5) For each group of four consecutive calendar months in s, find the date on which the highest value occurred."
   ]
  },
  {
   "cell_type": "code",
   "execution_count": 8,
   "metadata": {},
   "outputs": [],
   "source": [
    "s1 = s.groupby(s.index.month).max() #groupby month\n",
    "s2 = np.array_split(s1.values, 3) #split serties into 3 subsets"
   ]
  },
  {
   "cell_type": "code",
   "execution_count": 9,
   "metadata": {},
   "outputs": [
    {
     "data": {
      "text/plain": [
       "[2015-03-27    2.99114\n",
       " Freq: B, dtype: float64, 2015-08-12    1.325452\n",
       " Freq: B, dtype: float64, 2015-12-08    2.439436\n",
       " Freq: B, dtype: float64]"
      ]
     },
     "execution_count": 9,
     "metadata": {},
     "output_type": "execute_result"
    }
   ],
   "source": [
    "# s3 = [s2[i].max() for i in range(len(s2))] #get max for each subset\n",
    "[s[s == s2[i].max()] for i in range(len(s2))]"
   ]
  },
  {
   "cell_type": "code",
   "execution_count": 10,
   "metadata": {},
   "outputs": [],
   "source": [
    "#for i in s3:\n",
    "#    print(s[s == i])"
   ]
  },
  {
   "cell_type": "code",
   "execution_count": 11,
   "metadata": {},
   "outputs": [],
   "source": [
    "#s[s == s1[0:4].max()]"
   ]
  }
 ],
 "metadata": {
  "kernelspec": {
   "display_name": "Python 3",
   "language": "python",
   "name": "python3"
  },
  "language_info": {
   "codemirror_mode": {
    "name": "ipython",
    "version": 3
   },
   "file_extension": ".py",
   "mimetype": "text/x-python",
   "name": "python",
   "nbconvert_exporter": "python",
   "pygments_lexer": "ipython3",
   "version": "3.6.5"
  }
 },
 "nbformat": 4,
 "nbformat_minor": 2
}
